{
 "cells": [
  {
   "cell_type": "markdown",
   "metadata": {},
   "source": [
    "Hint: 人物原始邊框座標 (60, 40), (420, 510)\n",
    "\n",
    "請根據 Lena 圖做以下處理\n",
    "\n",
    "對明亮度做直方圖均衡處理\n",
    "水平鏡像 + 縮放處理 (0.5 倍)\n",
    "畫出人物矩形邊框"
   ]
  },
  {
   "cell_type": "code",
   "execution_count": 1,
   "metadata": {},
   "outputs": [],
   "source": [
    "import cv2\n",
    "import numpy as np\n",
    "\n",
    "img = cv2.imread('lena.png')"
   ]
  },
  {
   "cell_type": "code",
   "execution_count": 3,
   "metadata": {},
   "outputs": [],
   "source": [
    "img_hsv_equal = cv2.cvtColor(img, cv2.COLOR_BGR2HSV)\n",
    "img_hsv_equal[...,-1] = cv2.equalizeHist(img_hsv_equal[...,-1])\n",
    "img_new_bgr = cv2.cvtColor(img_hsv_equal, cv2.COLOR_HSV2BGR)"
   ]
  },
  {
   "cell_type": "code",
   "execution_count": 4,
   "metadata": {},
   "outputs": [],
   "source": [
    "img_rect = img_new_bgr.copy()\n",
    "cv2.rectangle(img_rect, (60, 40), (420, 510), (255, 0, 0), 5)\n",
    "\n",
    "while True:\n",
    "    cv2.imshow('image', img_rect)\n",
    "    k = cv2.waitKey(0)\n",
    "    if k == 27:\n",
    "        cv2.destroyAllWindows()\n",
    "        break"
   ]
  },
  {
   "cell_type": "code",
   "execution_count": 5,
   "metadata": {},
   "outputs": [],
   "source": [
    "img_mirr = img_rect[:,::-1,:]\n",
    "fx=0.5\n",
    "fy=0.5\n",
    "img_resize = cv2.resize(img_mirr, None, fx=fx, fy=fy, interpolation =cv2.INTER_AREA)\n",
    "\n",
    "while True:\n",
    "    cv2.imshow('image', img_resize)\n",
    "    k = cv2.waitKey(0)\n",
    "    if k == 27:\n",
    "        cv2.destroyAllWindows()\n",
    "        break"
   ]
  }
 ],
 "metadata": {
  "kernelspec": {
   "display_name": "Python 3",
   "language": "python",
   "name": "python3"
  },
  "language_info": {
   "codemirror_mode": {
    "name": "ipython",
    "version": 3
   },
   "file_extension": ".py",
   "mimetype": "text/x-python",
   "name": "python",
   "nbconvert_exporter": "python",
   "pygments_lexer": "ipython3",
   "version": "3.8.5"
  }
 },
 "nbformat": 4,
 "nbformat_minor": 4
}
