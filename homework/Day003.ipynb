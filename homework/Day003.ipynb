{
 "cells": [
  {
   "cell_type": "markdown",
   "metadata": {},
   "source": [
    "實作各種不一樣的方式來調整飽和 / 對比 / 明亮\n",
    "\n",
    "改變 color space 來調整飽和度\n",
    "實作直方圖均衡\n",
    "alpha/ beta 調整對比 / 明亮"
   ]
  },
  {
   "cell_type": "code",
   "execution_count": 8,
   "metadata": {},
   "outputs": [],
   "source": [
    "import cv2\n",
    "import numpy as np\n",
    "\n",
    "\n",
    "img = cv2.imread('lena.png', cv2.IMREAD_COLOR)"
   ]
  },
  {
   "cell_type": "markdown",
   "metadata": {},
   "source": [
    "改變飽和度\n",
    "轉換成 HSV color space, 改變 s channel 的值"
   ]
  },
  {
   "cell_type": "code",
   "execution_count": 9,
   "metadata": {},
   "outputs": [],
   "source": [
    "img_hsv = cv2.cvtColor(img, cv2.COLOR_BGR2HSV)"
   ]
  },
  {
   "cell_type": "code",
   "execution_count": 13,
   "metadata": {},
   "outputs": [],
   "source": [
    "change_percentage = 0.25\n",
    "\n",
    "img_hsv_down = img_hsv.astype('float32')\n",
    "img_hsv_down[..., -1] = img_hsv_down[..., -1]/255. - change_percentage\n",
    "img_hsv_down[img_hsv_down[..., -1] < 0] = 0\n",
    "img_hsv_down[..., -1] = img_hsv_down[..., -1]*255.\n",
    "img_hsv_down = img_hsv_down.astype('uint8')"
   ]
  },
  {
   "cell_type": "code",
   "execution_count": 26,
   "metadata": {},
   "outputs": [],
   "source": [
    "change_percentage = 0.25\n",
    "\n",
    "img_hsv_up = img_hsv.astype('float32')\n",
    "img_hsv_up[..., -1] = img_hsv_up[..., -1]/255. + change_percentage\n",
    "img_hsv_up[img_hsv_up[..., -1] > 1] = 1\n",
    "img_hsv_up[..., -1] = img_hsv_up[..., -1]*255.\n",
    "img_hsv_up = img_hsv_up.astype('uint8')"
   ]
  },
  {
   "cell_type": "code",
   "execution_count": 27,
   "metadata": {},
   "outputs": [],
   "source": [
    "img_hsv_down = cv2.cvtColor(img_hsv_down, cv2.COLOR_HSV2BGR)\n",
    "img_hsv_up = cv2.cvtColor(img_hsv_up, cv2.COLOR_HSV2BGR)"
   ]
  },
  {
   "cell_type": "code",
   "execution_count": 29,
   "metadata": {},
   "outputs": [],
   "source": [
    "img_hsv_change = np.hstack((img, img_hsv_down, img_hsv_up))\n",
    "while True:\n",
    "    cv2.imshow('change saturation', img_hsv_change)\n",
    "    \n",
    "    k = cv2.waitKey(0)\n",
    "    if k == 27:\n",
    "        cv2.destroyAllWindows()\n",
    "        break"
   ]
  },
  {
   "cell_type": "markdown",
   "metadata": {},
   "source": [
    "case 1: 把彩圖拆開對每個 channel 個別做直方圖均衡再組合起來\n",
    "case 2: 轉換 color space 到 HSV 之後對其中一個 channel 做直方圖均衡"
   ]
  },
  {
   "cell_type": "code",
   "execution_count": 45,
   "metadata": {},
   "outputs": [],
   "source": [
    "# case 1\n",
    "# 每個 channel 個別做直方圖均衡\n",
    "equalHist_by_blue = cv2.equalizeHist(img[..., 0])\n",
    "equalHist_by_green = cv2.equalizeHist(img[..., 1])\n",
    "equalHist_by_red = cv2.equalizeHist(img[..., 2])\n",
    "\n",
    "# 組合經過直方圖均衡的每個 channel\n",
    "img_bgr_equal = img\n",
    "img_bgr_equal[..., 0] = equalHist_by_blue\n",
    "img_bgr_equal[..., 1] = equalHist_by_green\n",
    "img_bgr_equal[..., 2] = equalHist_by_red\n",
    "\n",
    "# case 2 - 轉換 color space 後只對其中一個 channel 做直方圖均衡\n",
    "img_hsv_equal = img\n",
    "img_hsv_equal[...,-1] = cv2.equalizeHist(img_hsv[..., -1])\n",
    "\n",
    "# 組合圖片 + 顯示圖片\n",
    "img_bgr_equalHist = np.hstack((img, img_bgr_equal, img_hsv_equal))\n",
    "while True:\n",
    "    # 比較 (原圖, BGR color space 對每個 channel 做直方圖均衡, HSV color space 對明度做直方圖均衡)\n",
    "    cv2.imshow('bgr equal histogram', img_bgr_equalHist)\n",
    "    k = cv2.waitKey(0)\n",
    "    if k == 27:\n",
    "        cv2.destroyAllWindows()\n",
    "        break"
   ]
  },
  {
   "cell_type": "code",
   "execution_count": 46,
   "metadata": {},
   "outputs": [],
   "source": [
    "# alpha: 控制對比度 (1.0~3.0)\n",
    "# beta: 控制明亮度 (0~255)\n",
    "add_contrast = cv2.convertScaleAbs(img, alpha = 2.0)\n",
    "add_lighness = cv2.convertScaleAbs(img, beta = 100)\n",
    "\n",
    "# 組合圖片 + 顯示圖片\n",
    "img_contrast_light = np.hstack((img, add_contrast, add_lighness))\n",
    "while True:\n",
    "    # 比較不同程度的對比 / 明亮\n",
    "    cv2.imshow('adjust contrast and brighness', img_contrast_light)\n",
    "    k = cv2.waitKey(0)\n",
    "    if k == 27:\n",
    "        cv2.destroyAllWindows()\n",
    "        break"
   ]
  }
 ],
 "metadata": {
  "kernelspec": {
   "display_name": "Python 3",
   "language": "python",
   "name": "python3"
  },
  "language_info": {
   "codemirror_mode": {
    "name": "ipython",
    "version": 3
   },
   "file_extension": ".py",
   "mimetype": "text/x-python",
   "name": "python",
   "nbconvert_exporter": "python",
   "pygments_lexer": "ipython3",
   "version": "3.8.5"
  }
 },
 "nbformat": 4,
 "nbformat_minor": 4
}
